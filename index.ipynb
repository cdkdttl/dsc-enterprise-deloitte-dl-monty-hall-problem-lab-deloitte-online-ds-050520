{
 "cells": [
  {
   "cell_type": "markdown",
   "metadata": {},
   "source": [
    "# The Monty Hall Problem\n",
    "\n",
    "## Introduction\n",
    "\n",
    "The Monty Hall problem is a famous little puzzle from a game show. It goes like this: you are presented with 3 doors. Behind two are goats and behind the third is a car. You are asked to select a door; if you select the door with the car, you win! After selecting, the host then opens one of the remaining two doors, revealing a goat. The host then asks if you would like to switch doors or stick with your original choice. What would you do? Does it matter?\n",
    "\n",
    "<img src=\"images/Image_58_MontyHall.png\">\n",
    "\n",
    "## Objectives\n",
    "\n",
    "You will be able to:\n",
    "* Solve the monty hall problem using simulations"
   ]
  },
  {
   "cell_type": "markdown",
   "metadata": {},
   "source": [
    "## Run a Simulation\n",
    "\n",
    "This is not a traditional application of Bayes' Theorem, so trying to formulate the problem as such is tricky at best. That said, the scenario does capture the motivating conception behind Bayesian statistics: updating our beliefs in the face of additional evidence. With this, you'll employ another frequently used tool of Bayesian's&mdash;running a simulation. To do this, generate a random integer between one and three to represent the door hiding the car. Then, generate a second integer between one and three representing the player's selection. Then, of those the contestant did not choose, select a door concealing a goat to reveal. Record the results of the simulated game if they changed versus if they did not. Repeat this process a thousand (or more) times. Finally, plot the results of your simulation as a line graph. The x-axis should be the number of simulations, and the y-axis should be the probability of winning. (There should be two lines on the graph, one for switching doors, and the other for keeping the original selection.)"
   ]
  },
  {
   "cell_type": "code",
   "execution_count": null,
   "metadata": {},
   "outputs": [],
   "source": [
    "#Your code here"
   ]
  },
  {
   "cell_type": "code",
   "execution_count": 57,
   "metadata": {},
   "outputs": [
    {
     "name": "stdout",
     "output_type": "stream",
     "text": [
      "Car Location: [1]\n",
      "Players Choice: {1}\n",
      "Host Opens: {2}\n",
      "New Player Choice: {3}\n",
      "Outcome Stayed: 1\n",
      "Outcome Switched: 0\n"
     ]
    }
   ],
   "source": [
    "import random\n",
    "all_doors = set([1,2,3])\n",
    "\n",
    "#Step 1: Car is placed behind a random door\n",
    "car_loc = [random.randint(1,3)]\n",
    "print('Car Location: ' + str(car_loc))\n",
    "\n",
    "#Step 2: Player selects a door\n",
    "player_choice = set([random.randint(1,3)])\n",
    "print('Player''s Choice: '+ str(player_choice))\n",
    "\n",
    "#Step 3: Host selects a door revealing a goat that's \n",
    "#not the player's door\n",
    "goat_locs = list(set(car_loc)^set(all_doors))\n",
    "\n",
    "if player_choice.issubset(set(car_loc)):\n",
    "    #pick either of the goat doors if the player chose the car\n",
    "    reveal_idx = random.randint(0,1)\n",
    "    reveal_loc = set([goat_locs[reveal_idx]])\n",
    "\n",
    "else:\n",
    "    #pick the door that the player didn't choose and the one that is not the car\n",
    "    reveal_loc = all_doors^(player_choice.union(set(car_loc)))\n",
    "\n",
    "print('Host Opens: ' + str(reveal_loc))\n",
    "\n",
    "\n",
    "#Step 4: Host gives player option to stay or switch doors\n",
    "#Step 4a: player stays\n",
    "if player_choice.issubset(set(car_loc)):\n",
    "    stay_win = 1\n",
    "else:\n",
    "    stay_win = 0\n",
    "\n",
    "#Step 4b: player switches\n",
    "new_player_choice = all_doors^(player_choice.union(reveal_loc))\n",
    "#print(new_player_choice)\n",
    "\n",
    "if new_player_choice.issubset(set(car_loc)):\n",
    "    switch_win = 1\n",
    "else:\n",
    "    switch_win = 0\n",
    "\n",
    "print('New Player Choice: ' + str(new_player_choice))\n",
    "print('Outcome Stayed: ' + str(stay_win))\n",
    "print('Outcome Switched: ' + str(switch_win))    "
   ]
  },
  {
   "cell_type": "code",
   "execution_count": 79,
   "metadata": {},
   "outputs": [],
   "source": [
    "#generate random integer to represent the door hiding the car\n",
    "import random\n",
    "all_doors = set([1,2,3])\n",
    "\n",
    "def monty_hall(idx):\n",
    "    #Step 1: Car is placed behind a random door\n",
    "    car_loc = [random.randint(1,3)]\n",
    "#     print('Car Location: ' + str(car_loc))\n",
    "\n",
    "    #Step 2: Player selects a door\n",
    "    player_choice = set([random.randint(1,3)])\n",
    "#     print('Player''s Choice: '+ str(player_choice))\n",
    "\n",
    "    #Step 3: Host selects a door revealing a goat that's \n",
    "    #not the player's door\n",
    "    goat_locs = list(set(car_loc)^set(all_doors))\n",
    "\n",
    "    if player_choice.issubset(set(car_loc)):\n",
    "        #pick either of the goat doors if the player chose the car\n",
    "        reveal_idx = random.randint(0,1)\n",
    "        reveal_loc = set([goat_locs[reveal_idx]])\n",
    "\n",
    "    else:\n",
    "        #pick the door that the player didn't choose and the one that is not the car\n",
    "        reveal_loc = all_doors^(player_choice.union(set(car_loc)))\n",
    "\n",
    "#     print('Host Opens: ' + str(reveal_loc))\n",
    "\n",
    "\n",
    "    #Step 4: Host gives player option to stay or switch doors\n",
    "    #Step 4a: player stays\n",
    "    if player_choice.issubset(set(car_loc)):\n",
    "        stay_win = 1\n",
    "    else:\n",
    "        stay_win = 0\n",
    "\n",
    "    #Step 4b: player switches\n",
    "    new_player_choice = all_doors^(player_choice.union(reveal_loc))\n",
    "    #print(new_player_choice)\n",
    "\n",
    "    if new_player_choice.issubset(set(car_loc)):\n",
    "        switch_win = 1\n",
    "    else:\n",
    "        switch_win = 0\n",
    "        \n",
    "#     print('New Player Choice: ' + str(new_player_choice))\n",
    "#     print('Outcome Stayed: ' + str(stay_win))\n",
    "#     print('Outcome Switched: ' + str(switch_win))    \n",
    "    \n",
    "#     y['stay_win'] = stay_win\n",
    "#     y['switch_win'] = switch_win\n",
    "    \n",
    "    return stay_win,switch_win\n",
    "\n"
   ]
  },
  {
   "cell_type": "code",
   "execution_count": null,
   "metadata": {},
   "outputs": [],
   "source": []
  },
  {
   "cell_type": "code",
   "execution_count": 142,
   "metadata": {},
   "outputs": [],
   "source": [
    "import pandas as pd\n",
    "\n",
    "iters = list(range(1000))\n",
    "df = pd.DataFrame(iters,columns=['Iteration'])"
   ]
  },
  {
   "cell_type": "code",
   "execution_count": null,
   "metadata": {},
   "outputs": [],
   "source": []
  },
  {
   "cell_type": "code",
   "execution_count": 143,
   "metadata": {},
   "outputs": [],
   "source": [
    "applied_df=df.apply(lambda x: monty_hall(x),axis='columns',result_type='expand')\n",
    "df = pd.concat([df,applied_df],axis='columns')\n",
    "df.columns=['Iteration','Stay Win','Switch Win']\n",
    "df['P_Stay_Win'] = 0\n",
    "df['P_Switch_Win'] = 0\n"
   ]
  },
  {
   "cell_type": "code",
   "execution_count": null,
   "metadata": {},
   "outputs": [],
   "source": []
  },
  {
   "cell_type": "code",
   "execution_count": 145,
   "metadata": {},
   "outputs": [],
   "source": [
    "#calc probability winning when not switching\n",
    "\n",
    "for idx,row in df.iterrows():\n",
    "    if idx == 0:\n",
    "        temp = df['Stay Win'].iloc[0]\n",
    "        P_Stay_Win = temp/1\n",
    "    else:\n",
    "        temp = df['Stay Win'].iloc[0:idx]\n",
    "        P_Stay_Win = sum(temp)/len(temp)\n",
    "    df['P_Stay_Win'].iloc[idx]=P_Stay_Win\n",
    "\n"
   ]
  },
  {
   "cell_type": "code",
   "execution_count": 147,
   "metadata": {},
   "outputs": [],
   "source": [
    "#calc probability winning when always switching\n",
    "\n",
    "for idx,row in df.iterrows():\n",
    "    if idx == 0:\n",
    "        temp = df['Switch Win'].iloc[0]\n",
    "        P_Stay_Win = temp/1\n",
    "    else:\n",
    "        temp = df['Switch Win'].iloc[0:idx]\n",
    "        P_Stay_Win = sum(temp)/len(temp)\n",
    "    df['P_Switch_Win'].iloc[idx]=P_Stay_Win"
   ]
  },
  {
   "cell_type": "code",
   "execution_count": 148,
   "metadata": {
    "scrolled": false
   },
   "outputs": [
    {
     "data": {
      "text/html": [
       "<div>\n",
       "<style scoped>\n",
       "    .dataframe tbody tr th:only-of-type {\n",
       "        vertical-align: middle;\n",
       "    }\n",
       "\n",
       "    .dataframe tbody tr th {\n",
       "        vertical-align: top;\n",
       "    }\n",
       "\n",
       "    .dataframe thead th {\n",
       "        text-align: right;\n",
       "    }\n",
       "</style>\n",
       "<table border=\"1\" class=\"dataframe\">\n",
       "  <thead>\n",
       "    <tr style=\"text-align: right;\">\n",
       "      <th></th>\n",
       "      <th>Iteration</th>\n",
       "      <th>Stay Win</th>\n",
       "      <th>Switch Win</th>\n",
       "      <th>P_Stay_Win</th>\n",
       "      <th>P_Switch_Win</th>\n",
       "    </tr>\n",
       "  </thead>\n",
       "  <tbody>\n",
       "    <tr>\n",
       "      <td>0</td>\n",
       "      <td>0</td>\n",
       "      <td>0</td>\n",
       "      <td>1</td>\n",
       "      <td>0.000000</td>\n",
       "      <td>1.000000</td>\n",
       "    </tr>\n",
       "    <tr>\n",
       "      <td>1</td>\n",
       "      <td>1</td>\n",
       "      <td>0</td>\n",
       "      <td>1</td>\n",
       "      <td>0.000000</td>\n",
       "      <td>1.000000</td>\n",
       "    </tr>\n",
       "    <tr>\n",
       "      <td>2</td>\n",
       "      <td>2</td>\n",
       "      <td>0</td>\n",
       "      <td>1</td>\n",
       "      <td>0.000000</td>\n",
       "      <td>1.000000</td>\n",
       "    </tr>\n",
       "    <tr>\n",
       "      <td>3</td>\n",
       "      <td>3</td>\n",
       "      <td>0</td>\n",
       "      <td>1</td>\n",
       "      <td>0.000000</td>\n",
       "      <td>1.000000</td>\n",
       "    </tr>\n",
       "    <tr>\n",
       "      <td>4</td>\n",
       "      <td>4</td>\n",
       "      <td>0</td>\n",
       "      <td>1</td>\n",
       "      <td>0.000000</td>\n",
       "      <td>1.000000</td>\n",
       "    </tr>\n",
       "    <tr>\n",
       "      <td>...</td>\n",
       "      <td>...</td>\n",
       "      <td>...</td>\n",
       "      <td>...</td>\n",
       "      <td>...</td>\n",
       "      <td>...</td>\n",
       "    </tr>\n",
       "    <tr>\n",
       "      <td>995</td>\n",
       "      <td>995</td>\n",
       "      <td>1</td>\n",
       "      <td>0</td>\n",
       "      <td>0.318593</td>\n",
       "      <td>0.681407</td>\n",
       "    </tr>\n",
       "    <tr>\n",
       "      <td>996</td>\n",
       "      <td>996</td>\n",
       "      <td>1</td>\n",
       "      <td>0</td>\n",
       "      <td>0.319277</td>\n",
       "      <td>0.680723</td>\n",
       "    </tr>\n",
       "    <tr>\n",
       "      <td>997</td>\n",
       "      <td>997</td>\n",
       "      <td>0</td>\n",
       "      <td>1</td>\n",
       "      <td>0.319960</td>\n",
       "      <td>0.680040</td>\n",
       "    </tr>\n",
       "    <tr>\n",
       "      <td>998</td>\n",
       "      <td>998</td>\n",
       "      <td>0</td>\n",
       "      <td>1</td>\n",
       "      <td>0.319639</td>\n",
       "      <td>0.680361</td>\n",
       "    </tr>\n",
       "    <tr>\n",
       "      <td>999</td>\n",
       "      <td>999</td>\n",
       "      <td>0</td>\n",
       "      <td>1</td>\n",
       "      <td>0.319319</td>\n",
       "      <td>0.680681</td>\n",
       "    </tr>\n",
       "  </tbody>\n",
       "</table>\n",
       "<p>1000 rows × 5 columns</p>\n",
       "</div>"
      ],
      "text/plain": [
       "     Iteration  Stay Win  Switch Win  P_Stay_Win  P_Switch_Win\n",
       "0            0         0           1    0.000000      1.000000\n",
       "1            1         0           1    0.000000      1.000000\n",
       "2            2         0           1    0.000000      1.000000\n",
       "3            3         0           1    0.000000      1.000000\n",
       "4            4         0           1    0.000000      1.000000\n",
       "..         ...       ...         ...         ...           ...\n",
       "995        995         1           0    0.318593      0.681407\n",
       "996        996         1           0    0.319277      0.680723\n",
       "997        997         0           1    0.319960      0.680040\n",
       "998        998         0           1    0.319639      0.680361\n",
       "999        999         0           1    0.319319      0.680681\n",
       "\n",
       "[1000 rows x 5 columns]"
      ]
     },
     "execution_count": 148,
     "metadata": {},
     "output_type": "execute_result"
    }
   ],
   "source": [
    "df"
   ]
  },
  {
   "cell_type": "code",
   "execution_count": 159,
   "metadata": {},
   "outputs": [
    {
     "data": {
      "text/plain": [
       "<matplotlib.legend.Legend at 0x7f749b7996a0>"
      ]
     },
     "execution_count": 159,
     "metadata": {},
     "output_type": "execute_result"
    },
    {
     "data": {
      "image/png": "[encoded data removed]",
      "text/plain": [
       "<Figure size 432x288 with 1 Axes>"
      ]
     },
     "metadata": {},
     "output_type": "display_data"
    }
   ],
   "source": [
    "import matplotlib.pyplot as plt\n",
    "from matplotlib import style\n",
    "style.use('ggplot')\n",
    "\n",
    "plt.scatter(df['Iteration'],df['P_Stay_Win'],label='Stay')\n",
    "plt.scatter(df['Iteration'],df['P_Switch_Win'],label='Switch')\n",
    "plt.legend(loc=4)"
   ]
  },
  {
   "cell_type": "markdown",
   "metadata": {},
   "source": [
    "## Summary\n",
    "\n",
    "In this lab, you further investigated the idea of Bayes' Theorem and Bayesian statistics in general through the Monty Hall problem. Hopefully, this was an entertaining little experience! "
   ]
  },
  {
   "cell_type": "code",
   "execution_count": null,
   "metadata": {},
   "outputs": [],
   "source": []
  }
 ],
 "metadata": {
  "kernelspec": {
   "display_name": "Python 3",
   "language": "python",
   "name": "python3"
  },
  "language_info": {
   "codemirror_mode": {
    "name": "ipython",
    "version": 3
   },
   "file_extension": ".py",
   "mimetype": "text/x-python",
   "name": "python",
   "nbconvert_exporter": "python",
   "pygments_lexer": "ipython3",
   "version": "3.6.9"
  }
 },
 "nbformat": 4,
 "nbformat_minor": 2
}
